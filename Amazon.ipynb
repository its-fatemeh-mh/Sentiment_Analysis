{
 "cells": [
  {
   "cell_type": "markdown",
   "id": "aecb7acb-d791-448a-aab8-0a6cf05e5637",
   "metadata": {
    "tags": []
   },
   "source": [
    "## Import Libraries\n"
   ]
  },
  {
   "cell_type": "code",
   "execution_count": 1,
   "id": "078ef328-a803-432a-86bf-766b9efafb16",
   "metadata": {},
   "outputs": [],
   "source": [
    "import numpy as np \n",
    "import pandas as pd\n",
    "import seaborn as sns\n",
    "import bz2\n",
    "import re\n",
    "\n",
    "\n"
   ]
  },
  {
   "cell_type": "markdown",
   "id": "5bb2fef7-330b-4b79-9c85-eed2fa8f09dd",
   "metadata": {},
   "source": [
    "## Read dataset(test & train)"
   ]
  },
  {
   "cell_type": "code",
   "execution_count": 8,
   "id": "745e141d-56e0-4c42-a587-77c0bea21b08",
   "metadata": {},
   "outputs": [],
   "source": [
    "train_file = bz2.BZ2File('train.ft.txt.bz2')\n",
    "test_file = bz2.BZ2File('test.ft.txt.bz2')\n"
   ]
  },
  {
   "cell_type": "code",
   "execution_count": 19,
   "id": "5004174f-7a69-4cef-b9d5-5dd8763dd2b5",
   "metadata": {},
   "outputs": [
    {
     "name": "stdout",
     "output_type": "stream",
     "text": [
      "b'__label__1 Incorrect disc!: I am a big JVC fan, but I do not like this model, I was suspiscious when I saw several units in the return section of the store. I bought one anyway (new) and must say I am not happy. The unit sends out clicks to the receiver once in a while, the transition between scenes is not always smooth,(like a little pause) and while it is still fairly new I can\\'t get any DVD,CD or even a DVD headcleaner to work. All I get is a \"incorrect disc\" message.'\n"
     ]
    }
   ],
   "source": [
    "with bz2.BZ2File('train.ft.txt.bz2', 'r') as bz:\n",
    "     lines = []\n",
    "     for i, line in enumerate(bz):\n",
    "        if i == 100: break\n",
    "        lines.append(line.rstrip())\n",
    "\n",
    "print(lines[30])\n",
    "    "
   ]
  },
  {
   "cell_type": "markdown",
   "id": "18a65b23-4be5-4338-9c48-d38444d1e5de",
   "metadata": {},
   "source": [
    "\n",
    "## Convert to text & labels\n"
   ]
  },
  {
   "cell_type": "code",
   "execution_count": 5,
   "id": "676d6e55-5813-462e-900a-99e06529966c",
   "metadata": {},
   "outputs": [],
   "source": [
    "def text_label(file):\n",
    "    texts = []\n",
    "    labels = []\n",
    "    for line in file:\n",
    "        b = line.decode('utf-8') #decode binary to string\n",
    "        labels.append(int(b[9])-1) #get labels\n",
    "        texts.append(b[10:].strip()) #get texts\n",
    "        \n",
    "    print('labels and text were extracted')        \n",
    "    return  np.array(labels), texts  "
   ]
  },
  {
   "cell_type": "code",
   "execution_count": 20,
   "id": "559d373c-d21d-4821-932a-461dc884c4e4",
   "metadata": {},
   "outputs": [
    {
     "name": "stdout",
     "output_type": "stream",
     "text": [
      "labels and text were extracted\n",
      "labels and text were extracted\n"
     ]
    }
   ],
   "source": [
    "train_labels, train_texts = text_label(train_file)\n",
    "test_labels, test_texts = text_label(test_file)"
   ]
  },
  {
   "cell_type": "code",
   "execution_count": 21,
   "id": "6ffae4da-43c7-4259-8634-dbdebf0f720e",
   "metadata": {},
   "outputs": [
    {
     "data": {
      "text/plain": [
       "'Stuning even for the non-gamer: This sound track was beautiful! It paints the senery in your mind so well I would recomend it even to people who hate vid. game music! I have played the game Chrono Cross but out of all of the games I have ever played it has the best music! It backs away from crude keyboarding and takes a fresher step with grate guitars and soulful orchestras. It would impress anyone who cares to listen! ^_^'"
      ]
     },
     "execution_count": 21,
     "metadata": {},
     "output_type": "execute_result"
    }
   ],
   "source": [
    "train_texts[0]"
   ]
  },
  {
   "cell_type": "markdown",
   "id": "0c9b71cb-7ce3-4113-8a4d-c2689801a3f7",
   "metadata": {},
   "source": [
    "## Data Cleaning "
   ]
  },
  {
   "cell_type": "code",
   "execution_count": 25,
   "id": "b5746071-b8f2-4ed7-a2d0-76cbeb5f13b8",
   "metadata": {},
   "outputs": [
    {
     "name": "stderr",
     "output_type": "stream",
     "text": [
      "[nltk_data] Downloading package stopwords to\n",
      "[nltk_data]     /home/fatemeh98/nltk_data...\n",
      "[nltk_data]   Package stopwords is already up-to-date!\n"
     ]
    },
    {
     "data": {
      "text/plain": [
       "True"
      ]
     },
     "execution_count": 25,
     "metadata": {},
     "output_type": "execute_result"
    }
   ],
   "source": [
    "import nltk \n",
    "from nltk.corpus import stopwords\n",
    "nltk.download('stopwords')\n"
   ]
  },
  {
   "cell_type": "code",
   "execution_count": 27,
   "id": "b78ac161-df1d-4a86-93bc-a21176a91b9b",
   "metadata": {},
   "outputs": [],
   "source": [
    "def clean_texts(texts):\n",
    "    stopw = stopwords.words('english')\n",
    "    l = len(texts)/10\n",
    "    temp_texts = []\n",
    "    for i in range(len(texts)):\n",
    "        text = re.sub('\\d','0',texts[i])\n",
    "        if 'www.' in text \\\n",
    "        or 'http:' in text \\\n",
    "        or 'https:' in text \\\n",
    "        or '.com' in text: \n",
    "             text = re.sub(r\"([^ ]+(?<=\\.[a-z]{3}))\", \" \", text)\n",
    "                \n",
    "        text = re.sub('[^a-zA-Z]', ' ', text)\n",
    "        text = text.lower()\n",
    "        text = text.split()  \n",
    "        text = [word for word in text if not word in stopw]\n",
    "        text = ' '.join(text)\n",
    "        temp_texts.append(text)\n",
    "        \n",
    "        if i%l==0:\n",
    "            print('--'+str(int(i/l)*10)+'%', end='')\n",
    "    print('--100%--Done !')\n",
    "    return temp_texts\n",
    "        \n",
    "        "
   ]
  },
  {
   "cell_type": "code",
   "execution_count": 28,
   "id": "745f74b6-6e76-482b-b913-d1d1ab44b18a",
   "metadata": {},
   "outputs": [
    {
     "name": "stdout",
     "output_type": "stream",
     "text": [
      "Processing Training data\n",
      "--0%--10%--20%--30%--40%--50%--60%--70%--80%--90%--100%--Done !\n",
      "\n",
      "Processing Test data\n",
      "--0%--10%--20%--30%--40%--50%--60%--70%--80%--90%--100%--Done !\n"
     ]
    }
   ],
   "source": [
    "print('Processing Training data')\n",
    "train_texts = clean_texts(train_texts)\n",
    "print('\\nProcessing Test data')\n",
    "test_texts = clean_texts(test_texts)"
   ]
  },
  {
   "cell_type": "code",
   "execution_count": 30,
   "id": "08d4e142-6244-4508-a812-0fb8e0d242a3",
   "metadata": {},
   "outputs": [
    {
     "data": {
      "text/plain": [
       "'stuning even non gamer sound track beautiful paints senery mind well would recomend even people hate vid game music played game chrono cross games ever played best music backs away crude keyboarding takes fresher step grate guitars soulful orchestras would impress anyone cares listen'"
      ]
     },
     "execution_count": 30,
     "metadata": {},
     "output_type": "execute_result"
    }
   ],
   "source": [
    "train_texts[0]"
   ]
  },
  {
   "cell_type": "code",
   "execution_count": 31,
   "id": "01dcb224-c32a-4a99-81f1-8e466ef10d1c",
   "metadata": {},
   "outputs": [
    {
     "data": {
      "text/plain": [
       "<AxesSubplot:ylabel='count'>"
      ]
     },
     "execution_count": 31,
     "metadata": {},
     "output_type": "execute_result"
    },
    {
     "data": {
      "image/png": "[encoded data removed]",
      "text/plain": [
       "<Figure size 640x480 with 1 Axes>"
      ]
     },
     "metadata": {},
     "output_type": "display_data"
    }
   ],
   "source": [
    "sns.countplot(x = train_labels)"
   ]
  },
  {
   "cell_type": "code",
   "execution_count": 32,
   "id": "7baa0c67-72cf-4120-88fc-4da0a95d7da1",
   "metadata": {},
   "outputs": [
    {
     "name": "stdout",
     "output_type": "stream",
     "text": [
      "Fitting data...\n",
      "fit complete !\n",
      "tranforming training set...\n",
      "tranforming test set...\n"
     ]
    }
   ],
   "source": [
    "from sklearn.feature_extraction.text import CountVectorizer\n",
    "\n",
    "print('Fitting data...')\n",
    "count_vect = CountVectorizer()\n",
    "count_vect.fit(train_texts) ; print('fit complete !')\n",
    "\n",
    "print('tranforming training set...')\n",
    "train_texts_vec = count_vect.transform(train_texts)\n",
    "\n",
    "print('tranforming test set...')\n",
    "test_texts_vec = count_vect.transform(test_texts)"
   ]
  },
  {
   "cell_type": "markdown",
   "id": "532d64f6-cc51-449a-9cd2-79789cd5e5b4",
   "metadata": {},
   "source": [
    "## Train Model Naive Bayes"
   ]
  },
  {
   "cell_type": "code",
   "execution_count": 33,
   "id": "47874706-5c06-486c-96d5-b38bab56ce67",
   "metadata": {},
   "outputs": [
    {
     "data": {
      "text/plain": [
       "MultinomialNB()"
      ]
     },
     "execution_count": 33,
     "metadata": {},
     "output_type": "execute_result"
    }
   ],
   "source": [
    "from sklearn.naive_bayes import MultinomialNB\n",
    "nb = MultinomialNB()\n",
    "nb.fit(train_texts_vec, train_labels)\n"
   ]
  },
  {
   "cell_type": "code",
   "execution_count": 34,
   "id": "3a64c504-7e96-45c9-8f1d-e8c9d5c36b67",
   "metadata": {},
   "outputs": [],
   "source": [
    "predict = nb.predict(test_texts_vec)"
   ]
  },
  {
   "cell_type": "markdown",
   "id": "aaeacb5a-c141-4234-a240-44ffd9b7e7ad",
   "metadata": {},
   "source": [
    "## Accuracy"
   ]
  },
  {
   "cell_type": "code",
   "execution_count": 35,
   "id": "7c565faf-bf94-4546-b1ea-8ccf5efe54ec",
   "metadata": {},
   "outputs": [
    {
     "name": "stdout",
     "output_type": "stream",
     "text": [
      "Accuracy: 0.8491875\n"
     ]
    }
   ],
   "source": [
    "from sklearn.metrics import accuracy_score\n",
    "print('Accuracy:', accuracy_score(test_labels, predict))"
   ]
  },
  {
   "cell_type": "code",
   "execution_count": null,
   "id": "2fdc98e4-86c3-4579-b060-7452a869566a",
   "metadata": {},
   "outputs": [],
   "source": [
    "sample = test_texts[102]\n",
    "print(sample)\n",
    "\n",
    "sample_vec = count_vect.transform([sample])\n",
    "print(f'prediction:{nb.predict(sample_vec)[0]}')\n",
    "print('actual label:', test_labels[102])"
   ]
  },
  {
   "cell_type": "markdown",
   "id": "605d21f7-2ffb-4e6b-8b44-35cf47f47868",
   "metadata": {},
   "source": [
    "## Logistic Regression Model"
   ]
  },
  {
   "cell_type": "code",
   "execution_count": 2,
   "id": "8be91f76-7e12-4d04-a6d7-dc05b5bd9923",
   "metadata": {},
   "outputs": [
    {
     "ename": "NameError",
     "evalue": "name 'train_texts_vec' is not defined",
     "output_type": "error",
     "traceback": [
      "\u001b[0;31m---------------------------------------------------------------------------\u001b[0m",
      "\u001b[0;31mNameError\u001b[0m                                 Traceback (most recent call last)",
      "\u001b[0;32m/tmp/ipykernel_94/2462869735.py\u001b[0m in \u001b[0;36m<module>\u001b[0;34m\u001b[0m\n\u001b[1;32m      2\u001b[0m \u001b[0;34m\u001b[0m\u001b[0m\n\u001b[1;32m      3\u001b[0m \u001b[0mlr_model\u001b[0m \u001b[0;34m=\u001b[0m \u001b[0mLogisticRegression\u001b[0m\u001b[0;34m(\u001b[0m\u001b[0mn_jobs\u001b[0m\u001b[0;34m=\u001b[0m\u001b[0;34m-\u001b[0m\u001b[0;36m1\u001b[0m\u001b[0;34m,\u001b[0m \u001b[0mmax_iter\u001b[0m\u001b[0;34m=\u001b[0m\u001b[0;36m150\u001b[0m\u001b[0;34m)\u001b[0m\u001b[0;34m\u001b[0m\u001b[0;34m\u001b[0m\u001b[0m\n\u001b[0;32m----> 4\u001b[0;31m \u001b[0mlr_model\u001b[0m\u001b[0;34m.\u001b[0m\u001b[0mfit\u001b[0m\u001b[0;34m(\u001b[0m\u001b[0mtrain_texts_vec\u001b[0m\u001b[0;34m,\u001b[0m \u001b[0mtrain_labels\u001b[0m\u001b[0;34m)\u001b[0m\u001b[0;34m\u001b[0m\u001b[0;34m\u001b[0m\u001b[0m\n\u001b[0m",
      "\u001b[0;31mNameError\u001b[0m: name 'train_texts_vec' is not defined"
     ]
    }
   ],
   "source": [
    "from sklearn.linear_model import LogisticRegression\n",
    "\n",
    "lr_model = LogisticRegression(n_jobs=-1, max_iter=150)\n",
    "lr_model.fit(train_texts_vec, train_labels)"
   ]
  }
 ],
 "metadata": {
  "kernelspec": {
   "display_name": "Python 3 (ipykernel)",
   "language": "python",
   "name": "python3"
  },
  "language_info": {
   "codemirror_mode": {
    "name": "ipython",
    "version": 3
   },
   "file_extension": ".py",
   "mimetype": "text/x-python",
   "name": "python",
   "nbconvert_exporter": "python",
   "pygments_lexer": "ipython3",
   "version": "3.9.13"
  }
 },
 "nbformat": 4,
 "nbformat_minor": 5
}
